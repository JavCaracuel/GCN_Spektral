{
 "cells": [
  {
   "cell_type": "markdown",
   "source": [
    "# Spektral"
   ],
   "metadata": {}
  },
  {
   "cell_type": "code",
   "execution_count": 1,
   "source": [
    "from spektral.datasets import TUDataset\r\n",
    "\r\n"
   ],
   "outputs": [],
   "metadata": {}
  },
  {
   "cell_type": "code",
   "execution_count": null,
   "source": [
    "dataset = TUDataset('PROTEINS')\r\n",
    "\r\n"
   ],
   "outputs": [],
   "metadata": {}
  }
 ],
 "metadata": {
  "orig_nbformat": 4,
  "language_info": {
   "name": "python",
   "version": "3.8.11",
   "mimetype": "text/x-python",
   "codemirror_mode": {
    "name": "ipython",
    "version": 3
   },
   "pygments_lexer": "ipython3",
   "nbconvert_exporter": "python",
   "file_extension": ".py"
  },
  "kernelspec": {
   "name": "python3",
   "display_name": "Python 3.8.11 64-bit ('CEIEC': conda)"
  },
  "interpreter": {
   "hash": "45d704c04070b4f32eb97b779b2b19f2ebf3da5291fdb18b3bd409324536e139"
  }
 },
 "nbformat": 4,
 "nbformat_minor": 2
}
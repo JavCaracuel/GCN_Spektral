{
 "cells": [
  {
   "cell_type": "code",
   "execution_count": 2,
   "source": [
    "from spektral.datasets import TUDataset\r\n",
    "from spektral.transforms import GCNFilter\r\n",
    "from sklearn.model_selection import train_test_split\r\n",
    "from tensorflow.keras.models import Model\r\n",
    "from tensorflow.keras.layers import Dense, Dropout\r\n",
    "from spektral.layers import GCNConv, GlobalSumPool\r\n",
    "from spektral.data import BatchLoader\r\n",
    "\r\n"
   ],
   "outputs": [],
   "metadata": {}
  },
  {
   "cell_type": "markdown",
   "source": [
    "## Importar datos"
   ],
   "metadata": {}
  },
  {
   "cell_type": "code",
   "execution_count": 3,
   "source": [
    "data = TUDataset('PROTEINS')\r\n",
    "\r\n",
    "data"
   ],
   "outputs": [
    {
     "output_type": "stream",
     "name": "stdout",
     "text": [
      "Successfully loaded PROTEINS.\n"
     ]
    },
    {
     "output_type": "execute_result",
     "data": {
      "text/plain": [
       "TUDataset(n_graphs=1113)"
      ]
     },
     "metadata": {},
     "execution_count": 3
    }
   ],
   "metadata": {}
  },
  {
   "cell_type": "markdown",
   "source": [
    "## preprocesamiento"
   ],
   "metadata": {}
  },
  {
   "cell_type": "code",
   "execution_count": 8,
   "source": [
    "data.apply(GCNFilter())\r\n",
    "X_train, X_test=train_test_split(data, test_size=0.20, random_state=42)\r\n"
   ],
   "outputs": [],
   "metadata": {}
  },
  {
   "cell_type": "markdown",
   "source": [
    "## Creacion de layers"
   ],
   "metadata": {}
  },
  {
   "cell_type": "code",
   "execution_count": null,
   "source": [
    "class ProteinsGNN(Model):\r\n",
    "  \r\n",
    "  def __init__(self, n_hidden, n_labels):\r\n",
    "    super().__init__()\r\n",
    "    # Define our GCN layer with our n_hidden layers\r\n",
    "    self.graph_conv = GCNConv(n_hidden)\r\n",
    "    # Define our global pooling layer\r\n",
    "    self.pool = GlobalSumPool()\r\n",
    "    # Define our dropout layer, initialize dropout freq. to .5 (50%)\r\n",
    "    self.dropout = Dropout(0.5)\r\n",
    "    # Define our Dense layer, with softmax activation function\r\n",
    "    self.dense = Dense(n_labels, 'softmax')\r\n",
    "\r\n",
    "# Define class method to call model on input\r\n",
    "  def call(self, inputs):\r\n",
    "    out = self.graph_conv(inputs)\r\n",
    "    out = self.dropout(out)\r\n",
    "    out = self.pool(out)\r\n",
    "    out = self.dense(out)\r\n",
    "\r\n",
    "    return out"
   ],
   "outputs": [],
   "metadata": {}
  },
  {
   "cell_type": "markdown",
   "source": [
    "## creacion del modelo "
   ],
   "metadata": {}
  },
  {
   "cell_type": "code",
   "execution_count": null,
   "source": [
    "model = ProteinsGNN(32, data.n_labels)\r\n",
    "\r\n",
    "model.compile('adam', 'categorical_crossentropy')\r\n",
    "\r\n",
    "loader = BatchLoader(data_train, batch_size=32)"
   ],
   "outputs": [],
   "metadata": {}
  },
  {
   "cell_type": "markdown",
   "source": [
    "## Entrenar el modelo \r\n"
   ],
   "metadata": {}
  },
  {
   "cell_type": "code",
   "execution_count": null,
   "source": [
    "model.fit(loader.load(), steps_per_epoch=loader.steps_per_epoch, epochs=10)"
   ],
   "outputs": [],
   "metadata": {}
  },
  {
   "cell_type": "markdown",
   "source": [
    "## Evaluar el modelo "
   ],
   "metadata": {}
  },
  {
   "cell_type": "code",
   "execution_count": null,
   "source": [
    "test_loader = BatchLoader(data_test, batch_size=32)\r\n",
    "\r\n",
    "loss = model.evaluate(loader.load(), steps=loader.steps_per_epoch)\r\n",
    "\r\n",
    "print('Test loss: {}'.format(loss))"
   ],
   "outputs": [],
   "metadata": {}
  }
 ],
 "metadata": {
  "orig_nbformat": 4,
  "language_info": {
   "name": "python",
   "version": "3.8.11",
   "mimetype": "text/x-python",
   "codemirror_mode": {
    "name": "ipython",
    "version": 3
   },
   "pygments_lexer": "ipython3",
   "nbconvert_exporter": "python",
   "file_extension": ".py"
  },
  "kernelspec": {
   "name": "python3",
   "display_name": "Python 3.8.11 64-bit ('CEIEC': conda)"
  },
  "interpreter": {
   "hash": "45d704c04070b4f32eb97b779b2b19f2ebf3da5291fdb18b3bd409324536e139"
  }
 },
 "nbformat": 4,
 "nbformat_minor": 2
}